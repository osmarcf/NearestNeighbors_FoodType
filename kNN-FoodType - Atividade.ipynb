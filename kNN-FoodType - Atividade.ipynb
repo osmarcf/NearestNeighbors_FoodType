{
 "cells": [
  {
   "cell_type": "markdown",
   "metadata": {},
   "source": [
    "# Classificação utilizando Nearest Neighbors"
   ]
  },
  {
   "cell_type": "markdown",
   "metadata": {},
   "source": [
    "**Introdução**"
   ]
  },
  {
   "cell_type": "markdown",
   "metadata": {},
   "source": [
    "Este código tem como objetivo aplicar o algorítmo kNN para identificar o tipo da comida (fruta, vegetal ou proteina), utilizando como classificação a sua doçura e crocância. Os dados utilizados estão no arquivo \"FoodType.csv\" "
   ]
  },
  {
   "cell_type": "markdown",
   "metadata": {},
   "source": [
    "**1 Coleta dos dados**"
   ]
  },
  {
   "cell_type": "markdown",
   "metadata": {},
   "source": [
    "* Primeiro vamos importar os dados do arquivo \"FoodType.csv\", em formato de DataFrame utilizando a função **pandas.read_csv('filepath_or_buffer')** da biblioteca pandas. **fonte**: [Github NearestNeighbors_FoodType](https://github.com/PECCE-IFSC/NearestNeighbors_FoodType/blob/master/FoodType.csv)\n",
    "* utilizou-se a função **DataFrame.columns** e **DataFrame.shape** para verificar as características de cada colunas e as dimensões do data frame, respectivamente.\n"
   ]
  },
  {
   "cell_type": "code",
   "execution_count": 4,
   "metadata": {},
   "outputs": [
    {
     "name": "stdout",
     "output_type": "stream",
     "text": [
      "Index(['Ingrediente', 'Docura', 'Crocancia', 'Classe'], dtype='object')\n",
      "(15, 4)\n"
     ]
    }
   ],
   "source": [
    "import pandas as pd\n",
    "#importar os dados\n",
    "data = pd.read_csv(\"https://github.com/PECCE-IFSC/NearestNeighbors_FoodType/raw/master/FoodType.csv\")\n",
    "\n",
    "#verificar as características de cada colunas do data frame\n",
    "print(data.columns)\n",
    "\n",
    "#verificar as dimensões do data frame\n",
    "print(data.shape)"
   ]
  },
  {
   "cell_type": "markdown",
   "metadata": {},
   "source": [
    "**2 Separação/Preparação dos dados**\n",
    "* utilizando a função **DataFrame.copy()** foi feita uma cópia dos dados contidos em `data`, para não modificar o arquivo original\n",
    "* Utiliza-se a função **DataFrame.pop('item')** para separar a coluna de `Classe` , armazenando-a em `y_data`\n"
   ]
  },
  {
   "cell_type": "code",
   "execution_count": null,
   "metadata": {
    "collapsed": true
   },
   "outputs": [],
   "source": [
    "x_data = data.copy()\n",
    "y_data = x_data.pop('Classe')"
   ]
  },
  {
   "cell_type": "markdown",
   "metadata": {},
   "source": [
    "**Exercício**\n",
    "* Separe a coluna `Ingrediente` do `x_data`, armazenando-a em `ingrediente`\n",
    "* utilize a função **DataFrame.head()** para verificar os tipos dos dados de `x_data` "
   ]
  },
  {
   "cell_type": "code",
   "execution_count": null,
   "metadata": {
    "collapsed": true
   },
   "outputs": [],
   "source": [
    "#separar a coluna 'ingrediente'\n",
    " \n",
    "#verificar os tipos dos dados de 'x_data' \n"
   ]
  },
  {
   "cell_type": "markdown",
   "metadata": {},
   "source": [
    "**Criação de um DataFrame para testar o algorítmo kNN**"
   ]
  },
  {
   "cell_type": "code",
   "execution_count": null,
   "metadata": {
    "collapsed": true
   },
   "outputs": [],
   "source": [
    "#criar o Data Frame de 'teste'\n",
    "teste = {'Docura': [6, 3], 'Crocancia': [4, 3]}\n",
    "teste_data = pd.DataFrame(teste, \n",
    "                       columns=('Docura', 'Crocancia'), \n",
    "                       index=('tomate', 'frango'))\n",
    "\n",
    "#imprimir o Data Frame\n",
    "teste_data\n"
   ]
  },
  {
   "cell_type": "markdown",
   "metadata": {},
   "source": [
    "**Exibição dos dados utilizados para treino e teste**\n",
    "* utilização da biblioteca **matplotlib.pyplot**"
   ]
  },
  {
   "cell_type": "code",
   "execution_count": null,
   "metadata": {
    "collapsed": true
   },
   "outputs": [],
   "source": [
    "import matplotlib.pyplot as plt\n",
    "%matplotlib inline\n",
    "\n",
    "fig, ax = plt.subplots()\n",
    "ax.scatter(x_data.Docura, x_data.Crocancia)\n",
    "for i, txt in enumerate(ingrediente):\n",
    "    ax.annotate(txt, (x_data.Docura[i], x_data.Crocancia[i]))\n",
    "\n",
    "ax.scatter(teste_data.Docura['tomate'], \n",
    "           teste_data.Crocancia['tomate'], \n",
    "           c='Red')\n",
    "\n",
    "ax.scatter(teste_data.Docura['frango'], \n",
    "           teste_data.Crocancia['frango'], \n",
    "           c='Orange')\n",
    "\n",
    "ax.annotate('Tomate', (teste_data.Docura['tomate'], \n",
    "                       teste_data.Crocancia['tomate']))\n",
    "\n",
    "ax.annotate('frango', (teste_data.Docura['frango'], \n",
    "                       teste_data.Crocancia['frango']))\n",
    "\n",
    "#inserir título nos eixos\n",
    "plt.xlabel('Doçura')\n",
    "plt.ylabel('Crocância')"
   ]
  },
  {
   "cell_type": "markdown",
   "metadata": {},
   "source": [
    "**3 Exercício: Treinar o modelo**\n",
    "* A partir da biblioteca **sklearn.neighbors** importou-se a classe `KNeighborsClassifier` \n",
    "* Crie uma instância da classe com a função  **KNeighborsClassifier()**, utilize o número de vizinhos (`n_neighbors`) igual a 3.\n",
    "* Treine o algoritmo kNN, utilizando a função **KNeighborsClassifier.fit()**\n",
    "* Com a função **KNeighborsClassifier.predict()**, teste o código usando o DataFrame criado anteriormente (`teste_data`)."
   ]
  },
  {
   "cell_type": "code",
   "execution_count": null,
   "metadata": {
    "collapsed": true
   },
   "outputs": [],
   "source": [
    "from sklearn.neighbors import KNeighborsClassifier\n",
    "\n",
    "#Crie uma instância da classe \n",
    "\n",
    "\n",
    "#Treine o algorítmo kNN\n",
    "\n",
    "\n",
    "#Teste o algoritmo\n",
    "\n",
    "\n",
    "#Imprimir o resultado\n",
    "#print('tomate:', y_pred[0])\n",
    "#print('frango:', y_pred[1])\n"
   ]
  },
  {
   "cell_type": "markdown",
   "metadata": {
    "collapsed": true
   },
   "source": [
    "**Exercício**\n",
    "* adicionar mais dois ingrediente, com suas respectivas doçura e crocância, seguindo o exemplo anterior\n",
    "* prever o tipo do alimento\n",
    "* imprimir o resultado"
   ]
  },
  {
   "cell_type": "code",
   "execution_count": null,
   "metadata": {
    "collapsed": true
   },
   "outputs": [],
   "source": []
  }
 ],
 "metadata": {
  "kernelspec": {
   "display_name": "Python 3",
   "language": "python",
   "name": "python3"
  },
  "language_info": {
   "codemirror_mode": {
    "name": "ipython",
    "version": 3
   },
   "file_extension": ".py",
   "mimetype": "text/x-python",
   "name": "python",
   "nbconvert_exporter": "python",
   "pygments_lexer": "ipython3",
   "version": "3.6.3"
  }
 },
 "nbformat": 4,
 "nbformat_minor": 2
}
